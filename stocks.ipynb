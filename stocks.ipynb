{
 "cells": [
  {
   "cell_type": "code",
   "execution_count": null,
   "metadata": {},
   "outputs": [],
   "source": [
    "from alpha_vantage.timeseries import TimeSeries\n",
    "import plotly.express as px\n",
    "import pandas as pd\n",
    "import json"
   ]
  },
  {
   "cell_type": "markdown",
   "metadata": {},
   "source": [
    "# _Calling file json_"
   ]
  },
  {
   "cell_type": "code",
   "execution_count": null,
   "metadata": {},
   "outputs": [],
   "source": [
    "with open('key/api_key.json') as f:\n",
    "    data = json.load(f)\n",
    "keys = data['key']"
   ]
  },
  {
   "cell_type": "markdown",
   "metadata": {},
   "source": [
    "# *Taking the values from stocks*"
   ]
  },
  {
   "cell_type": "code",
   "execution_count": null,
   "metadata": {},
   "outputs": [],
   "source": [
    "stocks_value = ['FB', 'AAPL', 'AMZN', 'NFLX', 'GOOGL'] #FAANG \n",
    "app = TimeSeries(keys, output_format='pandas')\n",
    "\n",
    "for stocks in stocks_value:\n",
    "    data_value, information_value = app.get_daily_adjusted(symbol=stocks, outputsize='full')\n",
    "    if stocks in stocks_value[0]:\n",
    "        data_value.to_excel('data-base/values_fb.xlsx')\n",
    "    elif stocks in stocks_value[1]:\n",
    "        data_value.to_excel('data-base/values_aapl.xlsx')\n",
    "    elif stocks in stocks_value[2]:\n",
    "        data_value.to_excel('data-base/values_amzn.xlsx')\n",
    "    elif stocks in stocks_value[3]:\n",
    "        data_value.to_excel('data-base/values_nflx.xlsx')\n",
    "    elif stocks in stocks_value[4]:\n",
    "        data_value.to_excel('data-base/values_googl.xlsx')"
   ]
  },
  {
   "cell_type": "markdown",
   "metadata": {},
   "source": [
    "# *Stock FB(Facebook)*"
   ]
  },
  {
   "cell_type": "code",
   "execution_count": null,
   "metadata": {},
   "outputs": [],
   "source": [
    "df = pd.read_excel(\"data-base/values_fb.xlsx\")\n",
    "table_fb = df[['1. open', '2. high', '3. low', '4. close', '6. volume']]\n",
    "fig_fb = px.line(table_fb)\n",
    "fig_fb.update_layout(\n",
    "    title=\"Stock FB(Facebook)\",\n",
    "    xaxis_title=\"Daily\",\n",
    "    yaxis_title=\"Values\",\n",
    "    legend_title=\"Variables\",\n",
    "    font=dict(\n",
    "        family=\"Roboto, monospace\",\n",
    "        size=18,\n",
    "        color=\"#000000\"\n",
    "    )\n",
    ")\n",
    "fig_fb.show()\n"
   ]
  },
  {
   "cell_type": "markdown",
   "metadata": {},
   "source": [
    "# *Stock AAPL(Apple)*"
   ]
  },
  {
   "cell_type": "code",
   "execution_count": null,
   "metadata": {},
   "outputs": [],
   "source": [
    "df = pd.read_excel(\"data-base/values_aapl.xlsx\")\n",
    "table_aapl = df[['1. open', '2. high', '3. low', '4. close', '6. volume']]\n",
    "fig_aapl = px.line(table_aapl)\n",
    "fig_aapl.update_layout(\n",
    "    title=\"Stock AAPL(Apple)\",\n",
    "    xaxis_title=\"Daily\",\n",
    "    yaxis_title=\"Values\",\n",
    "    legend_title=\"Variables\",\n",
    "    font=dict(\n",
    "        family=\"Roboto, monospace\",\n",
    "        size=18,\n",
    "        color=\"#000000\"\n",
    "    )\n",
    ")\n",
    "fig_aapl.show()"
   ]
  },
  {
   "cell_type": "markdown",
   "metadata": {},
   "source": [
    "# *Stock AMZN(Amazon)*"
   ]
  },
  {
   "cell_type": "code",
   "execution_count": null,
   "metadata": {},
   "outputs": [],
   "source": [
    "df = pd.read_excel(\"data-base/values_amzn.xlsx\")\n",
    "table_amzn = df[['1. open', '2. high', '3. low', '4. close', '6. volume']]\n",
    "fig_amzn = px.line(table_amzn)\n",
    "fig_amzn.update_layout(\n",
    "    title=\"Stock AMZN(Amazon)\",\n",
    "    xaxis_title=\"Daily\",\n",
    "    yaxis_title=\"Values\",\n",
    "    legend_title=\"Variables\",\n",
    "    font=dict(\n",
    "        family=\"Roboto, monospace\",\n",
    "        size=18,\n",
    "        color=\"#000000\"\n",
    "    )\n",
    ")\n",
    "fig_amzn.show()"
   ]
  },
  {
   "cell_type": "markdown",
   "metadata": {},
   "source": [
    "# *Stock NFLX(Netflix)*"
   ]
  },
  {
   "cell_type": "code",
   "execution_count": null,
   "metadata": {},
   "outputs": [],
   "source": [
    "df = pd.read_excel(\"data-base/values_nflx.xlsx\")\n",
    "table_nflx = df[['1. open', '2. high', '3. low', '4. close', '6. volume']]\n",
    "fig_nflx = px.line(table_nflx)\n",
    "fig_nflx.update_layout(\n",
    "    title=\"Stock NFLX(Netflix)\",\n",
    "    xaxis_title=\"Daily\",\n",
    "    yaxis_title=\"Values\",\n",
    "    legend_title=\"Variables\",\n",
    "    font=dict(\n",
    "        family=\"Roboto, monospace\",\n",
    "        size=18,\n",
    "        color=\"#000000\"\n",
    "    )\n",
    ")\n",
    "fig_nflx.show()"
   ]
  },
  {
   "cell_type": "markdown",
   "metadata": {},
   "source": [
    "# *Stock GOOGL(Google)*"
   ]
  },
  {
   "cell_type": "code",
   "execution_count": null,
   "metadata": {},
   "outputs": [],
   "source": [
    "df = pd.read_excel(\"data-base/values_googl.xlsx\")\n",
    "table_googl = df[['1. open', '2. high', '3. low', '4. close', '6. volume']]\n",
    "fig_googl = px.line(table_googl)\n",
    "fig_googl.update_layout(\n",
    "    title=\"Stock GOOGL(Google)\",\n",
    "    xaxis_title=\"Daily\",\n",
    "    yaxis_title=\"Values\",\n",
    "    legend_title=\"Variables\",\n",
    "    font=dict(\n",
    "        family=\"Roboto, monospace\",\n",
    "        size=18,\n",
    "        color=\"#000000\"\n",
    "    )\n",
    ")\n",
    "fig_googl.show()"
   ]
  }
 ],
 "metadata": {
  "interpreter": {
   "hash": "138717a59269f68c9c8c1bbd4b94988d7c25c2384c0be59d4bddd9fca92be3bd"
  },
  "kernelspec": {
   "display_name": "Python 3.9.7 64-bit (windows store)",
   "name": "python3"
  },
  "language_info": {
   "codemirror_mode": {
    "name": "ipython",
    "version": 3
   },
   "file_extension": ".py",
   "mimetype": "text/x-python",
   "name": "python",
   "nbconvert_exporter": "python",
   "pygments_lexer": "ipython3",
   "version": "3.9.7"
  },
  "orig_nbformat": 4
 },
 "nbformat": 4,
 "nbformat_minor": 2
}
